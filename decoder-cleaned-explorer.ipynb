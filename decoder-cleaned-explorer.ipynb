{
 "cells": [
  {
   "cell_type": "code",
   "execution_count": 1,
   "id": "1542cccc-edf6-46f4-bb83-f747cba60bd2",
   "metadata": {},
   "outputs": [],
   "source": [
    "import pandas as pd\n",
    "import matplotlib.pyplot as plt\n",
    "import seaborn as sns\n",
    "import folium\n",
    "from folium.plugins import MarkerCluster, HeatMap\n",
    "import ipywidgets as widgets\n",
    "from IPython.display import display, clear_output\n",
    "import plotly.express as px\n",
    "import plotly.graph_objects as go\n",
    "from datetime import timedelta\n",
    "\n",
    "# Set plotting styles\n",
    "sns.set(style=\"whitegrid\")\n",
    "%matplotlib inline"
   ]
  },
  {
   "cell_type": "code",
   "execution_count": 2,
   "id": "eb98127c-38dc-44b5-ae8f-f815b682fe53",
   "metadata": {},
   "outputs": [
    {
     "name": "stdout",
     "output_type": "stream",
     "text": [
      "First 5 rows of the cleaned dataset:\n"
     ]
    },
    {
     "data": {
      "text/html": [
       "<div>\n",
       "<style scoped>\n",
       "    .dataframe tbody tr th:only-of-type {\n",
       "        vertical-align: middle;\n",
       "    }\n",
       "\n",
       "    .dataframe tbody tr th {\n",
       "        vertical-align: top;\n",
       "    }\n",
       "\n",
       "    .dataframe thead th {\n",
       "        text-align: right;\n",
       "    }\n",
       "</style>\n",
       "<table border=\"1\" class=\"dataframe\">\n",
       "  <thead>\n",
       "    <tr style=\"text-align: right;\">\n",
       "      <th></th>\n",
       "      <th>mmsi</th>\n",
       "      <th>vessel_name</th>\n",
       "      <th>time</th>\n",
       "      <th>lat</th>\n",
       "      <th>lon</th>\n",
       "      <th>heading</th>\n",
       "      <th>rot</th>\n",
       "      <th>sog</th>\n",
       "      <th>cog</th>\n",
       "      <th>nas</th>\n",
       "      <th>mi</th>\n",
       "      <th>imo</th>\n",
       "      <th>call_sign</th>\n",
       "    </tr>\n",
       "  </thead>\n",
       "  <tbody>\n",
       "    <tr>\n",
       "      <th>0</th>\n",
       "      <td>538011058</td>\n",
       "      <td>AGIA CHARIS</td>\n",
       "      <td>2024-09-11 00:00:01</td>\n",
       "      <td>-24.129660</td>\n",
       "      <td>-46.271113</td>\n",
       "      <td>98.0</td>\n",
       "      <td>0.0</td>\n",
       "      <td>0.0</td>\n",
       "      <td>170.9</td>\n",
       "      <td>0</td>\n",
       "      <td>0</td>\n",
       "      <td>&lt;NA&gt;</td>\n",
       "      <td>V7A6515</td>\n",
       "    </tr>\n",
       "    <tr>\n",
       "      <th>1</th>\n",
       "      <td>710003185</td>\n",
       "      <td>SVITZER JOAQUIM R.</td>\n",
       "      <td>2024-09-11 00:00:01</td>\n",
       "      <td>-23.874703</td>\n",
       "      <td>-46.373788</td>\n",
       "      <td>NaN</td>\n",
       "      <td>-128.0</td>\n",
       "      <td>0.0</td>\n",
       "      <td>196.9</td>\n",
       "      <td>8</td>\n",
       "      <td>0</td>\n",
       "      <td>&lt;NA&gt;</td>\n",
       "      <td>PU3490</td>\n",
       "    </tr>\n",
       "    <tr>\n",
       "      <th>2</th>\n",
       "      <td>538010074</td>\n",
       "      <td>OINOUSSIAN COURAGE</td>\n",
       "      <td>2024-09-11 00:00:01</td>\n",
       "      <td>-23.988802</td>\n",
       "      <td>-46.292782</td>\n",
       "      <td>37.0</td>\n",
       "      <td>0.0</td>\n",
       "      <td>5.6</td>\n",
       "      <td>45.7</td>\n",
       "      <td>0</td>\n",
       "      <td>0</td>\n",
       "      <td>&lt;NA&gt;</td>\n",
       "      <td>V7A5555</td>\n",
       "    </tr>\n",
       "    <tr>\n",
       "      <th>3</th>\n",
       "      <td>636018551</td>\n",
       "      <td>TRANSMERIDIAN</td>\n",
       "      <td>2024-09-11 00:00:01</td>\n",
       "      <td>-23.953395</td>\n",
       "      <td>-46.307160</td>\n",
       "      <td>333.0</td>\n",
       "      <td>5.0</td>\n",
       "      <td>7.5</td>\n",
       "      <td>330.0</td>\n",
       "      <td>0</td>\n",
       "      <td>0</td>\n",
       "      <td>&lt;NA&gt;</td>\n",
       "      <td>D5QF5</td>\n",
       "    </tr>\n",
       "    <tr>\n",
       "      <th>4</th>\n",
       "      <td>710028580</td>\n",
       "      <td>WS SCORPIP</td>\n",
       "      <td>2024-09-11 00:00:01</td>\n",
       "      <td>-23.968200</td>\n",
       "      <td>-46.290470</td>\n",
       "      <td>NaN</td>\n",
       "      <td>-128.0</td>\n",
       "      <td>0.0</td>\n",
       "      <td>173.1</td>\n",
       "      <td>0</td>\n",
       "      <td>0</td>\n",
       "      <td>&lt;NA&gt;</td>\n",
       "      <td>PO2303</td>\n",
       "    </tr>\n",
       "  </tbody>\n",
       "</table>\n",
       "</div>"
      ],
      "text/plain": [
       "        mmsi         vessel_name                time        lat        lon  \\\n",
       "0  538011058         AGIA CHARIS 2024-09-11 00:00:01 -24.129660 -46.271113   \n",
       "1  710003185  SVITZER JOAQUIM R. 2024-09-11 00:00:01 -23.874703 -46.373788   \n",
       "2  538010074  OINOUSSIAN COURAGE 2024-09-11 00:00:01 -23.988802 -46.292782   \n",
       "3  636018551       TRANSMERIDIAN 2024-09-11 00:00:01 -23.953395 -46.307160   \n",
       "4  710028580          WS SCORPIP 2024-09-11 00:00:01 -23.968200 -46.290470   \n",
       "\n",
       "   heading    rot  sog    cog nas  mi   imo call_sign  \n",
       "0     98.0    0.0  0.0  170.9   0   0  <NA>   V7A6515  \n",
       "1      NaN -128.0  0.0  196.9   8   0  <NA>    PU3490  \n",
       "2     37.0    0.0  5.6   45.7   0   0  <NA>   V7A5555  \n",
       "3    333.0    5.0  7.5  330.0   0   0  <NA>     D5QF5  \n",
       "4      NaN -128.0  0.0  173.1   0   0  <NA>    PO2303  "
      ]
     },
     "metadata": {},
     "output_type": "display_data"
    },
    {
     "name": "stdout",
     "output_type": "stream",
     "text": [
      "\n",
      "DataFrame Info:\n",
      "<class 'pandas.core.frame.DataFrame'>\n",
      "RangeIndex: 300707 entries, 0 to 300706\n",
      "Data columns (total 13 columns):\n",
      " #   Column       Non-Null Count   Dtype         \n",
      "---  ------       --------------   -----         \n",
      " 0   mmsi         300707 non-null  int64         \n",
      " 1   vessel_name  300707 non-null  string        \n",
      " 2   time         300707 non-null  datetime64[ns]\n",
      " 3   lat          300629 non-null  float64       \n",
      " 4   lon          300633 non-null  float64       \n",
      " 5   heading      128060 non-null  float64       \n",
      " 6   rot          283138 non-null  float64       \n",
      " 7   sog          296026 non-null  float64       \n",
      " 8   cog          296079 non-null  float64       \n",
      " 9   nas          300707 non-null  string        \n",
      " 10  mi           283137 non-null  Int64         \n",
      " 11  imo          0 non-null       string        \n",
      " 12  call_sign    300707 non-null  string        \n",
      "dtypes: Int64(1), datetime64[ns](1), float64(6), int64(1), string(4)\n",
      "memory usage: 30.1 MB\n",
      "\n",
      "Shape of the DataFrame: (300707, 13)\n"
     ]
    }
   ],
   "source": [
    "# Load the cleaned Parquet file\n",
    "parquet_file = \"ais_data_20240911_cleaned.parquet\"\n",
    "df = pd.read_parquet(parquet_file)\n",
    "\n",
    "# Display the first few rows\n",
    "print(\"First 5 rows of the cleaned dataset:\")\n",
    "display(df.head())\n",
    "\n",
    "# Basic info\n",
    "print(\"\\nDataFrame Info:\")\n",
    "df.info()\n",
    "\n",
    "# Shape\n",
    "print(f\"\\nShape of the DataFrame: {df.shape}\")"
   ]
  },
  {
   "cell_type": "code",
   "execution_count": 3,
   "id": "09e97a7e-39e6-422d-ba9c-4c72385f588f",
   "metadata": {},
   "outputs": [
    {
     "name": "stdout",
     "output_type": "stream",
     "text": [
      "Column names and data types:\n",
      "mmsi: int64\n",
      "vessel_name: string\n",
      "time: datetime64[ns]\n",
      "lat: float64\n",
      "lon: float64\n",
      "heading: float64\n",
      "rot: float64\n",
      "sog: float64\n",
      "cog: float64\n",
      "nas: string\n",
      "mi: Int64\n",
      "imo: string\n",
      "call_sign: string\n",
      "\n",
      "All expected columns are present.\n",
      "\n",
      "Missing values in each column:\n"
     ]
    },
    {
     "data": {
      "text/plain": [
       "mmsi                0\n",
       "vessel_name         0\n",
       "time                0\n",
       "lat                78\n",
       "lon                74\n",
       "heading        172647\n",
       "rot             17569\n",
       "sog              4681\n",
       "cog              4628\n",
       "nas                 0\n",
       "mi              17570\n",
       "imo            300707\n",
       "call_sign           0\n",
       "dtype: int64"
      ]
     },
     "metadata": {},
     "output_type": "display_data"
    }
   ],
   "source": [
    "# Display column names and data types\n",
    "print(\"Column names and data types:\")\n",
    "for col in df.columns:\n",
    "    print(f\"{col}: {df[col].dtype}\")\n",
    "\n",
    "# Check for missing columns\n",
    "expected_columns = [\"mmsi\", \"vessel_name\", \"time\", \"lat\", \"lon\", \"heading\", \"rot\", \"sog\", \"cog\", \"nas\", \"mi\", \"imo\", \"call_sign\"]\n",
    "missing_columns = [col for col in expected_columns if col not in df.columns]\n",
    "if missing_columns:\n",
    "    print(f\"\\nMissing columns: {missing_columns}\")\n",
    "else:\n",
    "    print(\"\\nAll expected columns are present.\")\n",
    "\n",
    "# Check missing values\n",
    "print(\"\\nMissing values in each column:\")\n",
    "display(df.isnull().sum())"
   ]
  },
  {
   "cell_type": "code",
   "execution_count": 15,
   "id": "5d7eab2b-7652-4460-90e3-defaed70aec9",
   "metadata": {},
   "outputs": [
    {
     "data": {
      "application/vnd.jupyter.widget-view+json": {
       "model_id": "fd90db6c46a34dddbdc148e34b06a803",
       "version_major": 2,
       "version_minor": 0
      },
      "text/plain": [
       "IntSlider(value=5, description='Time Window (min):', max=60, min=1)"
      ]
     },
     "metadata": {},
     "output_type": "display_data"
    },
    {
     "data": {
      "application/vnd.jupyter.widget-view+json": {
       "model_id": "78d7a65065764c7f82ca02133403b118",
       "version_major": 2,
       "version_minor": 0
      },
      "text/plain": [
       "Output()"
      ]
     },
     "metadata": {},
     "output_type": "display_data"
    }
   ],
   "source": [
    "# Function to update heatmap\n",
    "def update_heatmap(time_window):\n",
    "    with output_heatmap:\n",
    "        clear_output(wait=True)\n",
    "        current_time = df[\"time\"].max()\n",
    "        window_df = df[df[\"time\"] >= current_time - timedelta(minutes=time_window)].copy()\n",
    "        valid_positions = window_df.dropna(subset=[\"lat\", \"lon\"])\n",
    "        \n",
    "        if not valid_positions.empty:\n",
    "            center_lat = valid_positions[\"lat\"].mean()\n",
    "            center_lon = valid_positions[\"lon\"].mean()\n",
    "            heatmap_map = folium.Map(location=[center_lat, center_lon], zoom_start=10)\n",
    "            HeatMap(data=valid_positions[[\"lat\", \"lon\"]].values, radius=15).add_to(heatmap_map)\n",
    "            display(heatmap_map)\n",
    "        else:\n",
    "            print(f\"No data in the last {time_window} minutes.\")\n",
    "\n",
    "# Create slider widget\n",
    "time_slider = widgets.IntSlider(value=5, min=1, max=60, step=1, description=\"Time Window (min):\")\n",
    "output_heatmap = widgets.Output()\n",
    "\n",
    "# Link slider to update function\n",
    "widgets.interactive(update_heatmap, time_window=time_slider)\n",
    "\n",
    "# Display widgets\n",
    "display(time_slider)\n",
    "display(output_heatmap)\n",
    "\n",
    "# Initial update\n",
    "update_heatmap(5)"
   ]
  },
  {
   "cell_type": "code",
   "execution_count": 10,
   "id": "7524287d-5eda-4e29-a2c0-7e78e590eca1",
   "metadata": {},
   "outputs": [
    {
     "name": "stdout",
     "output_type": "stream",
     "text": [
      "Invalid latitude count: 0\n",
      "Invalid longitude count: 0\n",
      "Invalid speed count: 0\n",
      "Invalid course count: 0\n",
      "\n",
      "No MMSI with multiple vessel names.\n"
     ]
    }
   ],
   "source": [
    "# Check for invalid ranges after cleaning\n",
    "invalid_lat = df[(df[\"lat\"] < -90) | (df[\"lat\"] > 90)]\n",
    "invalid_lon = df[(df[\"lon\"] < -180) | (df[\"lon\"] > 180)]\n",
    "invalid_sog = df[(df[\"sog\"] < 0) | (df[\"sog\"] > 50)]\n",
    "invalid_cog = df[(df[\"cog\"] < 0) | (df[\"cog\"] > 360)]\n",
    "\n",
    "print(\"Invalid latitude count:\", len(invalid_lat))\n",
    "print(\"Invalid longitude count:\", len(invalid_lon))\n",
    "print(\"Invalid speed count:\", len(invalid_sog))\n",
    "print(\"Invalid course count:\", len(invalid_cog))\n",
    "\n",
    "# Check MMSI consistency\n",
    "mmsi_vessel_counts = df.groupby(\"mmsi\")[\"vessel_name\"].nunique()\n",
    "inconsistent_mmsi = mmsi_vessel_counts[mmsi_vessel_counts > 1]\n",
    "if inconsistent_mmsi.empty:\n",
    "    print(\"\\nNo MMSI with multiple vessel names.\")\n",
    "else:\n",
    "    print(\"\\nMMSI with multiple vessel names (resolved during cleaning):\")\n",
    "    display(inconsistent_mmsi)"
   ]
  },
  {
   "cell_type": "code",
   "execution_count": null,
   "id": "8cc4ef79-557e-4ee7-a158-33254ed507b1",
   "metadata": {},
   "outputs": [],
   "source": []
  }
 ],
 "metadata": {
  "kernelspec": {
   "display_name": "Python 3 (ipykernel)",
   "language": "python",
   "name": "python3"
  },
  "language_info": {
   "codemirror_mode": {
    "name": "ipython",
    "version": 3
   },
   "file_extension": ".py",
   "mimetype": "text/x-python",
   "name": "python",
   "nbconvert_exporter": "python",
   "pygments_lexer": "ipython3",
   "version": "3.12.9"
  }
 },
 "nbformat": 4,
 "nbformat_minor": 5
}
